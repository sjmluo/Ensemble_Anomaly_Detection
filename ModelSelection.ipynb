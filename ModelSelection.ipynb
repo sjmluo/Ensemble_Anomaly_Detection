{
 "cells": [
  {
   "cell_type": "code",
   "execution_count": 1,
   "metadata": {},
   "outputs": [
    {
     "name": "stderr",
     "output_type": "stream",
     "text": [
      "C:\\Users\\Michael\\miniconda3\\envs\\anomaly\\lib\\site-packages\\umap\\__init__.py:9: UserWarning: Tensorflow not installed; ParametricUMAP will be unavailable\n",
      "  warn(\"Tensorflow not installed; ParametricUMAP will be unavailable\")\n"
     ]
    }
   ],
   "source": [
    "from modules.crossvalidation import HyperparameterTune\n",
    "from modules.evaluation import EvaluationFramework\n",
    "from modules.metrics import metrics\n",
    "from glob import glob\n",
    "from scipy.io import loadmat\n",
    "from time import time\n",
    "from tqdm import tqdm\n",
    "import pandas as pd\n",
    "%config Completer.use_jedi = False"
   ]
  },
  {
   "cell_type": "code",
   "execution_count": 2,
   "metadata": {},
   "outputs": [],
   "source": [
    "from pyod.utils.utility import standardizer\n",
    "from pyod.models.iforest import IForest\n",
    "from pyod.models.lof import LOF\n",
    "from pyod.models.knn import KNN\n",
    "from pyod.models.pca import PCA\n",
    "from pyod.models.ocsvm import OCSVM"
   ]
  },
  {
   "cell_type": "markdown",
   "metadata": {},
   "source": [
    "## Dataset"
   ]
  },
  {
   "cell_type": "code",
   "execution_count": 3,
   "metadata": {},
   "outputs": [],
   "source": [
    "dataset_fps = glob('datasets/*')\n",
    "dataset_names = [x.split('\\\\')[1].split('.mat')[0] for x in dataset_fps]"
   ]
  },
  {
   "cell_type": "markdown",
   "metadata": {},
   "source": [
    "## Parameter Grid"
   ]
  },
  {
   "cell_type": "code",
   "execution_count": 4,
   "metadata": {},
   "outputs": [],
   "source": [
    "params_iforest = {\n",
    "    'n_estimators':[10,100],\n",
    "    'max_features':[1,0.5,1.0],\n",
    "    'bootstrap': [True, False]\n",
    "}\n",
    "params_lof = {\n",
    "    'n_neighbors': [5,20],\n",
    "    'algorithm': ['kd_tree', 'brute'],\n",
    "}\n",
    "params_knn = {\n",
    "    'method':['largest', 'mean', 'median'],\n",
    "    'n_neighbors': [2,5,10]\n",
    "}\n",
    "params_pca = {\n",
    "    'n_components': [None,1,2,5],\n",
    "    'whiten': [True, False],\n",
    "    'weighted': [True, False]\n",
    "}\n",
    "params_osvm = {\n",
    "    'kernel': ['linear', 'poly','rbf','sigmoid'],\n",
    "    'nu':[0.2,0.5],\n",
    "    'shrinking': [True,False]\n",
    "}"
   ]
  },
  {
   "cell_type": "code",
   "execution_count": 5,
   "metadata": {},
   "outputs": [],
   "source": [
    "methods = [\n",
    "    ('iForest',IForest, params_iforest),\n",
    "    ('lof',LOF, params_lof),\n",
    "    ('KNN', KNN, params_knn),\n",
    "    ('PCA',PCA, params_pca),\n",
    "    ('OSVM',OCSVM, params_osvm)\n",
    "]"
   ]
  },
  {
   "cell_type": "markdown",
   "metadata": {},
   "source": [
    "## Parameter Tuning"
   ]
  },
  {
   "cell_type": "code",
   "execution_count": null,
   "metadata": {},
   "outputs": [
    {
     "name": "stderr",
     "output_type": "stream",
     "text": [
      "  0%|                                                                                            | 0/5 [00:00<?, ?it/s]\n",
      "0it [00:00, ?it/s]\u001b[A\n",
      "1it [00:10, 10.93s/it]\u001b[A\n",
      "2it [00:22, 11.48s/it]\u001b[A\n",
      "3it [00:32, 10.48s/it]\u001b[A\n",
      "4it [00:41, 10.17s/it]\u001b[A\n",
      "5it [00:53, 10.67s/it]\u001b[A\n",
      "6it [01:02, 10.12s/it]\u001b[A\n",
      "7it [01:48, 21.75s/it]\u001b[A\n",
      "8it [02:19, 24.88s/it]\u001b[A\n",
      "9it [02:39, 23.44s/it]\u001b[A\n",
      "10it [02:59, 22.30s/it]\u001b[A\n",
      "11it [04:30, 43.39s/it]\u001b[A\n",
      "12it [04:44, 34.24s/it]\u001b[A\n",
      "13it [04:53, 26.73s/it]\u001b[A\n",
      "14it [05:04, 22.01s/it]\u001b[A\n",
      "15it [05:14, 20.99s/it]\u001b[A\n",
      " 20%|████████████████▌                                                                  | 1/5 [05:14<20:59, 314.92s/it]\n",
      "0it [00:00, ?it/s]\u001b[A\n",
      "1it [00:00,  1.18it/s]\u001b[A\n",
      "2it [00:02,  1.29s/it]\u001b[A\n",
      "3it [00:02,  1.32it/s]\u001b[A\n",
      "4it [00:02,  1.88it/s]\u001b[A\n",
      "5it [00:04,  1.09it/s]\u001b[A\n",
      "7it [01:10, 17.11s/it]\u001b[A\n",
      "8it [01:29, 17.80s/it]\u001b[A\n",
      "9it [01:42, 16.55s/it]\u001b[A\n",
      "10it [01:55, 15.51s/it]\u001b[A\n",
      "11it [09:50, 147.40s/it]\u001b[A\n",
      "12it [09:53, 105.52s/it]\u001b[A\n",
      "13it [09:53, 74.56s/it] \u001b[A\n",
      "14it [09:54, 52.77s/it]\u001b[A\n",
      "15it [09:54, 39.66s/it]\u001b[A\n",
      " 40%|█████████████████████████████████▏                                                 | 2/5 [15:09<23:58, 479.62s/it]\n",
      "0it [00:00, ?it/s]\u001b[A\n",
      "1it [00:03,  3.39s/it]\u001b[A\n",
      "2it [00:08,  4.41s/it]\u001b[A\n",
      "3it [00:08,  2.58s/it]\u001b[A\n",
      "4it [00:09,  1.85s/it]\u001b[A\n",
      "5it [00:15,  3.18s/it]\u001b[A\n",
      "6it [00:15,  2.21s/it]\u001b[A\n",
      "7it [04:23, 82.43s/it]\u001b[A\n",
      "8it [05:43, 81.74s/it]\u001b[A\n",
      "9it [06:03, 62.58s/it]\u001b[A\n",
      "10it [06:38, 53.95s/it]\u001b[A\n",
      "11it [11:32, 127.50s/it]\u001b[A\n",
      "12it [11:39, 90.77s/it] \u001b[A\n",
      "13it [11:39, 63.40s/it]\u001b[A\n",
      "14it [11:42, 45.06s/it]\u001b[A\n",
      "15it [11:43, 46.89s/it]\u001b[A\n",
      " 60%|█████████████████████████████████████████████████▊                                 | 3/5 [26:53<19:23, 581.79s/it]\n",
      "0it [00:00, ?it/s]\u001b[A\n",
      "1it [00:02,  2.64s/it]\u001b[A\n",
      "2it [00:03,  1.42s/it]\u001b[A\n",
      "3it [00:03,  1.10it/s]\u001b[A\n",
      "4it [00:03,  1.43it/s]\u001b[A\n",
      "5it [00:04,  1.51it/s]\u001b[A\n",
      "6it [00:04,  1.88it/s]\u001b[A\n",
      "7it [00:09,  2.04s/it]\u001b[A\n",
      "8it [00:13,  2.61s/it]\u001b[A\n",
      "9it [00:14,  2.12s/it]\u001b[A\n",
      "10it [00:16,  1.94s/it]\u001b[A\n",
      "11it [00:21,  2.80s/it]\u001b[A\n",
      "12it [00:21,  2.12s/it]\u001b[A\n",
      "13it [00:21,  1.57s/it]\u001b[A\n",
      "14it [00:22,  1.24s/it]\u001b[A\n",
      "15it [00:22,  1.52s/it]\u001b[A\n",
      " 80%|██████████████████████████████████████████████████████████████████▍                | 4/5 [27:15<06:01, 361.10s/it]\n",
      "0it [00:00, ?it/s]\u001b[A\n",
      "1it [00:18, 18.91s/it]\u001b[A\n",
      "2it [00:23, 10.31s/it]\u001b[A\n",
      "3it [00:23,  5.75s/it]\u001b[A\n",
      "4it [00:24,  3.67s/it]\u001b[A\n",
      "5it [00:28,  3.91s/it]\u001b[A\n",
      "6it [00:28,  2.68s/it]\u001b[A\n",
      "7it [04:20, 77.58s/it]\u001b[A\n",
      "8it [06:18, 90.43s/it]\u001b[A\n",
      "9it [07:07, 77.56s/it]\u001b[A\n",
      "10it [08:24, 77.36s/it]\u001b[A"
     ]
    }
   ],
   "source": [
    "start = time()\n",
    "\n",
    "for method_nam, method_func, param in tqdm(methods):\n",
    "    param_df = pd.DataFrame(columns=['Dataset']+list(param.keys()))\n",
    "    for dataset_nam, dataset_fp in tqdm(zip(dataset_names,dataset_fps)):\n",
    "        mat = loadmat(dataset_fp)\n",
    "        X_raw = mat['X']\n",
    "        y = mat['y'].ravel()\n",
    "        # Normalise \n",
    "        X = standardizer(X_raw)\n",
    "        # Hyperparameter Tuning\n",
    "        h = HyperparameterTune(method_func, **param)\n",
    "        tuned_param = h.evaluate(X,y)\n",
    "        param_df = param_df.append({'Dataset':dataset_nam, **tuned_param}, ignore_index=True)\n",
    "        \n",
    "        # Integration with EvaluationFramework\n",
    "#         model = method_func(**tuned_param)\n",
    "#         eva = EvaluationFramework(model)\n",
    "        \n",
    "    # Save Results\n",
    "    param_df.to_csv(f'./results/{method_nam}.csv', index=False)\n",
    "\n",
    "finish = time() - start\n",
    "print(f'------ {finish/60} minutes --------')"
   ]
  },
  {
   "cell_type": "code",
   "execution_count": null,
   "metadata": {},
   "outputs": [],
   "source": []
  },
  {
   "cell_type": "code",
   "execution_count": null,
   "metadata": {},
   "outputs": [],
   "source": []
  }
 ],
 "metadata": {
  "kernelspec": {
   "display_name": "Python 3",
   "language": "python",
   "name": "python3"
  },
  "language_info": {
   "codemirror_mode": {
    "name": "ipython",
    "version": 3
   },
   "file_extension": ".py",
   "mimetype": "text/x-python",
   "name": "python",
   "nbconvert_exporter": "python",
   "pygments_lexer": "ipython3",
   "version": "3.8.6"
  }
 },
 "nbformat": 4,
 "nbformat_minor": 4
}
