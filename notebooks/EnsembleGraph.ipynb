{
 "cells": [
  {
   "cell_type": "code",
   "execution_count": 5,
   "metadata": {},
   "outputs": [],
   "source": [
    "import os\n",
    "import sys\n",
    "module_path = os.path.abspath(os.path.join('..'))\n",
    "if module_path not in sys.path:\n",
    "    sys.path.append(module_path)\n",
    "%config Completer.use_jedi = False"
   ]
  },
  {
   "cell_type": "code",
   "execution_count": 6,
   "metadata": {},
   "outputs": [
    {
     "name": "stdout",
     "output_type": "stream",
     "text": [
      "Using backend cpu\n"
     ]
    }
   ],
   "source": [
    "from modules.static import StaticFramework\n",
    "# Ensemble Methods\n",
    "from modules.staticModels.ensemble import EnsembleStaticGraphs \n",
    "# Detectors\n",
    "from modules.staticModels.models import SCAN, Eigenspoke, Oddball"
   ]
  },
  {
   "cell_type": "code",
   "execution_count": 9,
   "metadata": {},
   "outputs": [],
   "source": [
    "import networkx as nx\n",
    "\n",
    "G = nx.Graph()\n",
    "for i in range(14):\n",
    "    G.add_node(i)\n",
    "edges = [(13, 9), (9, 12), (9, 8), (9, 10), (8, 7), (8, 12), (10, 11), (10, 12), (11, 7), (12, 7), (12, 11), (7, 6), (11, 6), (10, 6), (6, 3), (6, 4), (6, 0), (3, 5), (4, 5), (0, 5), (3, 2), (0, 1), (5, 2), (5, 1), (1, 2), (3, 4), (4, 0)]\n",
    "G.add_edges_from(edges)"
   ]
  },
  {
   "cell_type": "markdown",
   "metadata": {},
   "source": [
    "## EnsembleModelParameters"
   ]
  },
  {
   "cell_type": "markdown",
   "metadata": {},
   "source": [
    "### Average of Estimators"
   ]
  },
  {
   "cell_type": "code",
   "execution_count": 11,
   "metadata": {},
   "outputs": [],
   "source": [
    "params_eigenspoke = {\n",
    "    'k':[1,2,3,4,5]\n",
    "}"
   ]
  },
  {
   "cell_type": "code",
   "execution_count": 31,
   "metadata": {},
   "outputs": [],
   "source": [
    "ens = EnsembleStaticGraphs(Eigenspoke, params_eigenspoke, method='avg')\n",
    "# ens = EnsembleStaticGraphs(Eigenspoke, params_eigenspoke, method='max')"
   ]
  },
  {
   "cell_type": "code",
   "execution_count": 32,
   "metadata": {},
   "outputs": [],
   "source": [
    "eva = StaticFramework(ens)"
   ]
  },
  {
   "cell_type": "code",
   "execution_count": 33,
   "metadata": {},
   "outputs": [
    {
     "name": "stdout",
     "output_type": "stream",
     "text": [
      "Outliters:\n",
      "[0, 1, 2, 3, 4]\n",
      "Outliters:\n",
      "[0, 1, 2, 3, 4, 6, 7, 8, 9, 10, 11]\n",
      "Outliters:\n",
      "[6, 7, 8, 9, 10, 11]\n",
      "Outliters:\n",
      "[6, 7, 8, 9, 10, 11]\n",
      "Outliters:\n",
      "[0, 1, 2, 7, 9, 10]\n",
      "Outliters:\n",
      "[0, 1, 2, 3, 4]\n",
      "Outliters:\n",
      "[0, 1, 2, 3, 4, 6, 7, 8, 9, 10, 11]\n",
      "Outliters:\n",
      "[6, 7, 8, 9, 10, 11]\n",
      "Outliters:\n",
      "[6, 7, 8, 9, 10, 11]\n",
      "Outliters:\n",
      "[0, 1, 2, 7, 9, 10]\n"
     ]
    }
   ],
   "source": [
    "node_df, edge_df = eva.fit(G)\n",
    "suspicious_nodes = eva.identify()"
   ]
  },
  {
   "cell_type": "code",
   "execution_count": 34,
   "metadata": {},
   "outputs": [
    {
     "data": {
      "text/plain": [
       "[3, 4, 6, 7, 8, 9, 10, 11]"
      ]
     },
     "execution_count": 34,
     "metadata": {},
     "output_type": "execute_result"
    }
   ],
   "source": [
    "suspicious_nodes"
   ]
  },
  {
   "cell_type": "code",
   "execution_count": 26,
   "metadata": {},
   "outputs": [
    {
     "data": {
      "text/html": [
       "<div>\n",
       "<style scoped>\n",
       "    .dataframe tbody tr th:only-of-type {\n",
       "        vertical-align: middle;\n",
       "    }\n",
       "\n",
       "    .dataframe tbody tr th {\n",
       "        vertical-align: top;\n",
       "    }\n",
       "\n",
       "    .dataframe thead th {\n",
       "        text-align: right;\n",
       "    }\n",
       "</style>\n",
       "<table border=\"1\" class=\"dataframe\">\n",
       "  <thead>\n",
       "    <tr style=\"text-align: right;\">\n",
       "      <th></th>\n",
       "      <th>node</th>\n",
       "      <th>y_pred</th>\n",
       "      <th>y_true</th>\n",
       "    </tr>\n",
       "  </thead>\n",
       "  <tbody>\n",
       "    <tr>\n",
       "      <th>0</th>\n",
       "      <td>0</td>\n",
       "      <td>0</td>\n",
       "      <td>None</td>\n",
       "    </tr>\n",
       "    <tr>\n",
       "      <th>1</th>\n",
       "      <td>1</td>\n",
       "      <td>0</td>\n",
       "      <td>None</td>\n",
       "    </tr>\n",
       "    <tr>\n",
       "      <th>2</th>\n",
       "      <td>2</td>\n",
       "      <td>0</td>\n",
       "      <td>None</td>\n",
       "    </tr>\n",
       "    <tr>\n",
       "      <th>3</th>\n",
       "      <td>3</td>\n",
       "      <td>1</td>\n",
       "      <td>None</td>\n",
       "    </tr>\n",
       "    <tr>\n",
       "      <th>4</th>\n",
       "      <td>4</td>\n",
       "      <td>1</td>\n",
       "      <td>None</td>\n",
       "    </tr>\n",
       "  </tbody>\n",
       "</table>\n",
       "</div>"
      ],
      "text/plain": [
       "   node  y_pred y_true\n",
       "0     0       0   None\n",
       "1     1       0   None\n",
       "2     2       0   None\n",
       "3     3       1   None\n",
       "4     4       1   None"
      ]
     },
     "execution_count": 26,
     "metadata": {},
     "output_type": "execute_result"
    }
   ],
   "source": [
    "node_df.head()"
   ]
  },
  {
   "cell_type": "code",
   "execution_count": null,
   "metadata": {},
   "outputs": [],
   "source": []
  }
 ],
 "metadata": {
  "kernelspec": {
   "display_name": "Python 3",
   "language": "python",
   "name": "python3"
  },
  "language_info": {
   "codemirror_mode": {
    "name": "ipython",
    "version": 3
   },
   "file_extension": ".py",
   "mimetype": "text/x-python",
   "name": "python",
   "nbconvert_exporter": "python",
   "pygments_lexer": "ipython3",
   "version": "3.8.6"
  }
 },
 "nbformat": 4,
 "nbformat_minor": 4
}
