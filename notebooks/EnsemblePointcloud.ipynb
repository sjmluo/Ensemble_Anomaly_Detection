{
 "cells": [
  {
   "cell_type": "code",
   "execution_count": 1,
   "metadata": {},
   "outputs": [],
   "source": [
    "import os\n",
    "import sys\n",
    "module_path = os.path.abspath(os.path.join('..'))\n",
    "if module_path not in sys.path:\n",
    "    sys.path.append(module_path)\n",
    "%config Completer.use_jedi = False"
   ]
  },
  {
   "cell_type": "code",
   "execution_count": 101,
   "metadata": {},
   "outputs": [],
   "source": [
    "from modules.evaluation import EvaluationFramework\n",
    "# Ensemble Methods\n",
    "from modules.ensemble import EnsembleModelParameters\n",
    "from pyod.models.lscp import LSCP \n",
    "from pyod.models.feature_bagging import FeatureBagging\n",
    "# Detectors\n",
    "from pyod.models.iforest import IForest\n",
    "from pyod.models.pca import PCA\n",
    "from pyod.models.knn import KNN\n",
    "from pyod.models.ocsvm import OCSVM"
   ]
  },
  {
   "cell_type": "code",
   "execution_count": 3,
   "metadata": {},
   "outputs": [],
   "source": [
    "import numpy as np\n",
    "\n",
    "def generate_data():\n",
    "    x1 = np.random.multivariate_normal([10,24,1], [[5,0,0],[0,15,0],[0,0,1]], 100)\n",
    "    x2 = np.random.multivariate_normal([10,24,1], [[15,0,0],[0,5,0],[0,0,2]], 100)\n",
    "    x3 = np.random.multivariate_normal([10,24,1], [[5,0,0],[0,4,0],[0,0,13]], 100)\n",
    "    x4 = np.array(list(zip(np.random.uniform(-50,50,10), np.random.uniform(-50,50,10), np.random.uniform(-50,50,10))))\n",
    "\n",
    "    X = np.concatenate([x1, x2, x3, x4])\n",
    "    Y = np.concatenate([np.zeros(len(x1)), np.zeros(len(x2)), np.zeros(len(x3)), np.ones(len(x4))])\n",
    "    return (X,Y)\n",
    "\n",
    "x,y = generate_data()"
   ]
  },
  {
   "cell_type": "markdown",
   "metadata": {},
   "source": [
    "## EnsembleModelParameters"
   ]
  },
  {
   "cell_type": "markdown",
   "metadata": {},
   "source": [
    "### Average of Estimators"
   ]
  },
  {
   "cell_type": "code",
   "execution_count": 70,
   "metadata": {},
   "outputs": [],
   "source": [
    "# 5 iForest models with the same parameters\n",
    "params_iforest = {\n",
    "    'n_estimators':[100,100,100,100,100],\n",
    "    'max_features':[1,1,1,1,1]\n",
    "}"
   ]
  },
  {
   "cell_type": "code",
   "execution_count": 71,
   "metadata": {},
   "outputs": [],
   "source": [
    "ens_iforest = EnsembleModelParameters(IForest, params_iforest)"
   ]
  },
  {
   "cell_type": "code",
   "execution_count": 72,
   "metadata": {},
   "outputs": [],
   "source": [
    "eva_iforest = EvaluationFramework(ens_iforest)\n",
    "eva_iforest.fit(x)"
   ]
  },
  {
   "cell_type": "code",
   "execution_count": 73,
   "metadata": {},
   "outputs": [],
   "source": [
    "predictions = eva_iforest.predict(x)\n",
    "scores = eva_iforest.score(y,predictions)"
   ]
  },
  {
   "cell_type": "code",
   "execution_count": 74,
   "metadata": {},
   "outputs": [
    {
     "data": {
      "text/plain": [
       "{'ROC-AUC': 0.9683333333333333,\n",
       " 'Detection-Rate': 1.0,\n",
       " 'False-Alarm': 0.06333333333333334,\n",
       " 'F1-Score': 0.5128205128205129,\n",
       " 'Log-Likelihood': 2.11694175436928}"
      ]
     },
     "execution_count": 74,
     "metadata": {},
     "output_type": "execute_result"
    }
   ],
   "source": [
    "scores"
   ]
  },
  {
   "cell_type": "code",
   "execution_count": 75,
   "metadata": {},
   "outputs": [
    {
     "data": {
      "text/plain": [
       "{'ROC-AUC': 0.965,\n",
       " 'Detection-Rate': 1.0,\n",
       " 'False-Alarm': 0.07,\n",
       " 'F1-Score': 0.4878048780487805,\n",
       " 'Log-Likelihood': 2.339777728513415}"
      ]
     },
     "execution_count": 75,
     "metadata": {},
     "output_type": "execute_result"
    }
   ],
   "source": [
    "# Comparison with single\n",
    "eva = EvaluationFramework(IForest(max_features=1))\n",
    "eva.fit(x)\n",
    "predictions = eva.predict(x)\n",
    "eva.score(y,predictions)"
   ]
  },
  {
   "cell_type": "markdown",
   "metadata": {},
   "source": [
    "### Maximum of Estimators"
   ]
  },
  {
   "cell_type": "code",
   "execution_count": 77,
   "metadata": {},
   "outputs": [],
   "source": [
    "params_pca = {\n",
    "    'n_components': [i for i in range(1,x.shape[1]+1)]\n",
    "}"
   ]
  },
  {
   "cell_type": "code",
   "execution_count": 79,
   "metadata": {},
   "outputs": [],
   "source": [
    "ens = EnsembleModelParameters(PCA, params_pca)"
   ]
  },
  {
   "cell_type": "code",
   "execution_count": 80,
   "metadata": {},
   "outputs": [],
   "source": [
    "eva = EvaluationFramework(ens)\n",
    "eva.fit(x)"
   ]
  },
  {
   "cell_type": "code",
   "execution_count": 81,
   "metadata": {},
   "outputs": [],
   "source": [
    "predictions = eva.predict(x)\n",
    "scores = eva.score(y,predictions)"
   ]
  },
  {
   "cell_type": "code",
   "execution_count": 84,
   "metadata": {},
   "outputs": [
    {
     "data": {
      "text/plain": [
       "{'ROC-AUC': 0.9666666666666667,\n",
       " 'Detection-Rate': 1.0,\n",
       " 'False-Alarm': 0.06666666666666667,\n",
       " 'F1-Score': 0.5,\n",
       " 'Log-Likelihood': 2.2283597414413476}"
      ]
     },
     "execution_count": 84,
     "metadata": {},
     "output_type": "execute_result"
    }
   ],
   "source": [
    "scores"
   ]
  },
  {
   "cell_type": "code",
   "execution_count": 85,
   "metadata": {},
   "outputs": [
    {
     "data": {
      "text/plain": [
       "{'ROC-AUC': 0.965,\n",
       " 'Detection-Rate': 1.0,\n",
       " 'False-Alarm': 0.07,\n",
       " 'F1-Score': 0.4878048780487805,\n",
       " 'Log-Likelihood': 2.339777728513415}"
      ]
     },
     "execution_count": 85,
     "metadata": {},
     "output_type": "execute_result"
    }
   ],
   "source": [
    "# Comparison with single\n",
    "eva = EvaluationFramework(PCA())\n",
    "eva.fit(x)\n",
    "predictions = eva.predict(x)\n",
    "eva.score(y,predictions)"
   ]
  },
  {
   "cell_type": "markdown",
   "metadata": {},
   "source": [
    "### LSCP: Locally Selective Combination of Parallel Outlier Ensembles\n",
    "\n",
    "Subsets the data into 'local regions' and chooses one of the potential detectors for each region."
   ]
  },
  {
   "cell_type": "code",
   "execution_count": 92,
   "metadata": {},
   "outputs": [],
   "source": [
    "selected_detectors = [IForest(), KNN(), PCA(), OCSVM()]\n",
    "model = LSCP(selected_detectors)"
   ]
  },
  {
   "cell_type": "code",
   "execution_count": 93,
   "metadata": {},
   "outputs": [
    {
     "name": "stderr",
     "output_type": "stream",
     "text": [
      "C:\\Users\\Michael\\miniconda3\\envs\\anomaly\\lib\\site-packages\\pyod\\models\\lscp.py:383: UserWarning: The number of histogram bins is greater than the number of classifiers, reducing n_bins to n_clf.\n",
      "  warnings.warn(\n"
     ]
    }
   ],
   "source": [
    "eva = EvaluationFramework(model)\n",
    "eva.fit(x)"
   ]
  },
  {
   "cell_type": "code",
   "execution_count": 94,
   "metadata": {},
   "outputs": [
    {
     "data": {
      "text/plain": [
       "{'ROC-AUC': 0.9733333333333333,\n",
       " 'Detection-Rate': 1.0,\n",
       " 'False-Alarm': 0.05333333333333334,\n",
       " 'F1-Score': 0.5555555555555556,\n",
       " 'Log-Likelihood': 1.7826877931530787}"
      ]
     },
     "execution_count": 94,
     "metadata": {},
     "output_type": "execute_result"
    }
   ],
   "source": [
    "predictions = eva.predict(x)\n",
    "scores = eva.score(y,predictions)\n",
    "scores"
   ]
  },
  {
   "cell_type": "markdown",
   "metadata": {},
   "source": [
    "### Feature Bagging"
   ]
  },
  {
   "cell_type": "code",
   "execution_count": 107,
   "metadata": {},
   "outputs": [],
   "source": [
    "base_estimator=PCA()\n",
    "model = FeatureBagging(base_estimator=base_estimator, n_estimators=10)"
   ]
  },
  {
   "cell_type": "code",
   "execution_count": 108,
   "metadata": {},
   "outputs": [],
   "source": [
    "eva = EvaluationFramework(model)\n",
    "eva.fit(x)"
   ]
  },
  {
   "cell_type": "code",
   "execution_count": 109,
   "metadata": {},
   "outputs": [
    {
     "data": {
      "text/plain": [
       "{'ROC-AUC': 0.965,\n",
       " 'Detection-Rate': 1.0,\n",
       " 'False-Alarm': 0.07,\n",
       " 'F1-Score': 0.4878048780487805,\n",
       " 'Log-Likelihood': 2.339777728513415}"
      ]
     },
     "execution_count": 109,
     "metadata": {},
     "output_type": "execute_result"
    }
   ],
   "source": [
    "predictions = eva.predict(x)\n",
    "scores = eva.score(y,predictions)\n",
    "scores"
   ]
  }
 ],
 "metadata": {
  "kernelspec": {
   "display_name": "Python 3",
   "language": "python",
   "name": "python3"
  },
  "language_info": {
   "codemirror_mode": {
    "name": "ipython",
    "version": 3
   },
   "file_extension": ".py",
   "mimetype": "text/x-python",
   "name": "python",
   "nbconvert_exporter": "python",
   "pygments_lexer": "ipython3",
   "version": "3.8.6"
  }
 },
 "nbformat": 4,
 "nbformat_minor": 4
}
